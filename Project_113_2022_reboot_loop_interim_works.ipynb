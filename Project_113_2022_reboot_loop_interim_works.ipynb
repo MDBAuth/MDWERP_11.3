{
 "cells": [
  {
   "cell_type": "markdown",
   "id": "7ffb33c3",
   "metadata": {},
   "source": [
    "# MD-WERP Strategic Project 11.3"
   ]
  },
  {
   "cell_type": "markdown",
   "id": "44783950",
   "metadata": {},
   "source": [
    "Requirements:\n",
    "\n",
    "Need a Google Earth Engine login, subject to their Terms and Conditions"
   ]
  },
  {
   "cell_type": "code",
   "execution_count": null,
   "id": "f15262fa",
   "metadata": {},
   "outputs": [],
   "source": [
    "# !pip install earthengine-api --upgrade"
   ]
  },
  {
   "cell_type": "markdown",
   "id": "276b67b1",
   "metadata": {},
   "source": [
    "## Import modules"
   ]
  },
  {
   "cell_type": "code",
   "execution_count": null,
   "id": "38c74d69",
   "metadata": {},
   "outputs": [],
   "source": [
    "import ee\n",
    "import folium\n",
    "import geopandas as gpd\n",
    "import time\n",
    "from time import gmtime, strftime, localtime"
   ]
  },
  {
   "cell_type": "markdown",
   "id": "9732d728",
   "metadata": {},
   "source": [
    "## Connect to Google Earth Engine\n",
    "You will need your own sign-in"
   ]
  },
  {
   "cell_type": "code",
   "execution_count": null,
   "id": "1a88f1db",
   "metadata": {},
   "outputs": [],
   "source": [
    "ee.Authenticate()\n",
    "ee.Initialize()"
   ]
  },
  {
   "cell_type": "markdown",
   "id": "d3d4ac71",
   "metadata": {},
   "source": [
    "## Define user variables"
   ]
  },
  {
   "cell_type": "markdown",
   "id": "b4b4def7",
   "metadata": {},
   "source": [
    "Import datasets"
   ]
  },
  {
   "cell_type": "code",
   "execution_count": null,
   "id": "7ea55cd8",
   "metadata": {},
   "outputs": [],
   "source": [
    "catchments = ee.FeatureCollection('users/Projects/Hunt/AHGFContractedCatchemnts')\n",
    "anae = ee.Image('users/Projects/anae3_ls_max_area_0')\n",
    "mdb = ee.FeatureCollection('users/Projects/MDB_boundary_2km')\n",
    "nb = ee.FeatureCollection('users/Projects/NB_catchments')\n",
    "sb = ee.FeatureCollection('users/Projects/SB_catchments') #https://code.earthengine.google.com/?asset=users/Projects/SB_catchments"
   ]
  },
  {
   "cell_type": "markdown",
   "id": "b4620856",
   "metadata": {},
   "source": [
    "Set user defined variables"
   ]
  },
  {
   "cell_type": "code",
   "execution_count": null,
   "id": "41090e83",
   "metadata": {},
   "outputs": [],
   "source": [
    "# Test mode\n",
    "test_mode = 'no' # yes to not submit tasks, no to submit tasks\n",
    "\n",
    "# Set parameters for Image Collections\n",
    "# Dates can currently only be intervals of years\n",
    "start_date = '1997-01-01' # 1984-01-01 landsat 5 archive begins\n",
    "end_date = '2023-01-01'\n",
    "cloud_percent = 20 # Max percentage allowed\n",
    "slc_data = 'no' # yes for include data, no for throw affected data away\n",
    "clip_edges = 'yes' # yes to clip by 6km for l5 and l7, no to not\n",
    "\n",
    "# Set parameters for aggregations\n",
    "timeframe = ee.String('month') \n",
    "advance_overlap = 1\n",
    "\n",
    "# Set export variables\n",
    "crs = 'EPSG:32655'\n",
    "crsTransform = [30,0,309885,0,-30,-3881085]\n",
    "epsg = '32655'\n",
    "bucket = 'sharebucketgee'\n",
    "scale = 30\n",
    "fileNamePrefix = 'MDWERP11/Project_113_January_2023/'\n",
    "\n",
    "# Boundaries\n",
    "bounds = mdb.geometry()\n",
    "bounds_list = [sb.geometry(),nb.geometry()]"
   ]
  },
  {
   "cell_type": "markdown",
   "id": "760c08b9",
   "metadata": {},
   "source": [
    "## Define functions"
   ]
  },
  {
   "cell_type": "markdown",
   "id": "f386b5cd",
   "metadata": {},
   "source": [
    "Unmask ANAE so that '0' is all the 'non-ANAE' classified area"
   ]
  },
  {
   "cell_type": "code",
   "execution_count": null,
   "id": "f6af69c1",
   "metadata": {},
   "outputs": [],
   "source": [
    "zeroIm = ee.Image(0).rename('b1').toShort()\n",
    "anae1 = ee.ImageCollection([zeroIm,anae.unmask()]).mosaic()"
   ]
  },
  {
   "cell_type": "code",
   "execution_count": null,
   "id": "7cd8dde3",
   "metadata": {},
   "outputs": [],
   "source": [
    "# Define a function to scale the data and mask unwanted pixels.\n",
    "def maskL457sr(image):\n",
    "    '''\n",
    "    maskL457sr from https://developers.google.com/earth-engine/guides/ic_visualization\n",
    "    '''\n",
    "    # Bit 0 - Fill\n",
    "    # Bit 1 - Dilated Cloud\n",
    "    # Bit 2 - Unused\n",
    "    # Bit 3 - Cloud\n",
    "    # Bit 4 - Cloud Shadow\n",
    "    qaMask = image.select('QA_PIXEL').bitwiseAnd(int('11111', 2)).eq(0)\n",
    "    saturationMask = image.select('QA_RADSAT').eq(0)\n",
    "\n",
    "    # Apply the scaling factors to the appropriate bands.\n",
    "    # opticalBands = image.select('SR_B.').multiply(0.0000275).add(-0.2)\n",
    "    # thermalBand = image.select('ST_B6').multiply(0.00341802).add(149.0)\n",
    "    opticalBands = image.select('SR_B.').multiply(0.0000275).add(-0.2)\n",
    "    thermalBands = image.select('ST_B.*').multiply(0.00341802).add(149.0)\n",
    "\n",
    "    # Replace the original bands with the scaled ones and apply the masks.\n",
    "    return image.addBands(opticalBands, None, True)\\\n",
    "        .addBands(thermalBands, None, True)\\\n",
    "        .updateMask(qaMask)\\\n",
    "        .updateMask(saturationMask)\n",
    "\n",
    "\n",
    "# Landsat (4), 5 and 7\n",
    "def renameBands57(img):\n",
    "    return img.select(['SR_B1','SR_B2','SR_B3','SR_B4','SR_B5','SR_B7','QA_RADSAT','QA_PIXEL'])\\\n",
    "              .rename(['blue','green','red','nir','swir1','swir2','QA_RADSAT','QA_PIXEL'])\n",
    "\n",
    "# Landsat 8\n",
    "def renameBands89(img):\n",
    "    return img.select(['SR_B2','SR_B3','SR_B4','SR_B5','SR_B6','SR_B7','QA_RADSAT','QA_PIXEL'])\\\n",
    "              .rename(['blue','green','red','nir','swir1','swir2','QA_RADSAT','QA_PIXEL'])\n",
    "\n",
    "# Function to clip edges of Landsat\n",
    "def clipEdges(img):\n",
    "    return img.clip(img.geometry().buffer(-6000))\n",
    "\n",
    "# Function to clip edges of Landsat\n",
    "def clipBasin(img):\n",
    "    return img.clip(bounds)\n",
    "\n",
    "# Function to add MNDWI\n",
    "def addMNDWI(image):\n",
    "    b1 = image.select('green')\n",
    "    b2 = image.select('swir1')\n",
    "    new_band = b1.subtract(b2).divide(b1.add(b2)).rename('mndwi')\n",
    "    return image.addBands(new_band)\n",
    "\n",
    "# Function to keep only water\n",
    "def onlyW(image):\n",
    "    water = image.select('mndwi').gt(0).rename('water')\n",
    "    return image.addBands(water).selfMask()\n",
    "\n",
    "# Funciton to mask bad pixels\n",
    "def maskBad(image):\n",
    "    bad_mask = image.select(['blue','green','red','nir','swir1','swir2'])\\\n",
    "                    .reduce(ee.Reducer.min())\\\n",
    "                    .gt(0)\n",
    "    return image.mask(bad_mask)"
   ]
  },
  {
   "cell_type": "markdown",
   "id": "b0b3209d",
   "metadata": {},
   "source": [
    "Define functions - to apply after monthly mosaic"
   ]
  },
  {
   "cell_type": "code",
   "execution_count": null,
   "id": "c74ee88e",
   "metadata": {},
   "outputs": [],
   "source": [
    "# Function to calculate area of bad pixels from image - Landsat\n",
    "# Only works in footprint of Image\n",
    "def getBadPixel(image):\n",
    "    \"\"\"\n",
    "    Returns an image where 1 = bad quality pixels, and good quality pixels are masked\n",
    "    \"\"\"\n",
    "    constant = ee.Image(0).multiply(image.select('QA_PIXEL_max'))\\\n",
    "                          .add(ee.Image(1))\\\n",
    "                          .unmask()\\\n",
    "                          .eq(0)\\\n",
    "                          .selfMask()\\\n",
    "                          .rename('bad_pixel')\n",
    "    return image.addBands(constant)\n",
    "\n",
    "# Function to calculate bad pixel area\n",
    "def getBadPixelArea(image):\n",
    "    stats = image.select('bad_pixel').eq(1).multiply(ee.Image.pixelArea()).rename('bad_pixel_area')\n",
    "    return image.addBands(stats)\n",
    "\n",
    "# Function to calculate water area\n",
    "def getWaterArea(image):\n",
    "    stats = image.select('water_max').eq(1).multiply(ee.Image.pixelArea()).rename('water_area')\n",
    "    return image.addBands(stats)\n",
    "\n",
    "\n",
    "# Function to calculate clear pixel\n",
    "def getClear(image):\n",
    "    stats = ee.Image(1).mask(image.select('bad_pixel').unmask()\\\n",
    "                                  .add(image.select('water_max').unmask())\\\n",
    "                                  .eq(0))\\\n",
    "                        .rename('clear')\n",
    "    return image.addBands(stats)\n",
    "\n",
    "# Function to calculate clear pixel area\n",
    "def getClearArea(image):\n",
    "    stats = image.select('clear').multiply(ee.Image.pixelArea()).rename('clear_area')\n",
    "    return image.addBands(stats)"
   ]
  },
  {
   "cell_type": "markdown",
   "id": "7d75da80",
   "metadata": {},
   "source": [
    "Make functions to add band name as a property"
   ]
  },
  {
   "cell_type": "code",
   "execution_count": null,
   "id": "4c8f9a08",
   "metadata": {},
   "outputs": [],
   "source": [
    "def addName_water(element):\n",
    "    ndict = {'band_name': 'water_area'};\n",
    "    nowhereFeature = ee.Feature(None, ndict);\n",
    "    return element.copyProperties(nowhereFeature,['band_name']);\n",
    "\n",
    "def addName_clear(element):\n",
    "    ndict = {'band_name': 'clear_area'};\n",
    "    nowhereFeature = ee.Feature(None, ndict);\n",
    "    return element.copyProperties(nowhereFeature,['band_name']);\n",
    "\n",
    "def addName_bad(element):\n",
    "    ndict = {'band_name': 'bad_area'};\n",
    "    nowhereFeature = ee.Feature(None, ndict);\n",
    "    return element.copyProperties(nowhereFeature,['band_name']);"
   ]
  },
  {
   "cell_type": "markdown",
   "id": "4f4ab874",
   "metadata": {},
   "source": [
    "Make function to flatten groups"
   ]
  },
  {
   "cell_type": "code",
   "execution_count": null,
   "id": "9e9eec9f",
   "metadata": {},
   "outputs": [],
   "source": [
    "# Convert output column list to columns\n",
    "def formatGroups(feature):\n",
    "    list1 = ee.List(ee.Feature(feature).get('groups'))\n",
    "    keys = list1.map(lambda o: ee.Number(ee.Dictionary(o).get('group')).format('%d'))\n",
    "    values = list1.map(lambda o: ee.Dictionary(o).get('sum'))\n",
    "    return ee.Feature(feature.geometry(), ee.Dictionary.fromLists(keys, values))\\\n",
    "             .copyProperties(feature,['UID','date','band_name'])"
   ]
  },
  {
   "cell_type": "markdown",
   "id": "4393fb53",
   "metadata": {},
   "source": [
    "Create a dummy row that contains all the values in the ANAE. This is the template used in the export, which converts the json into a csv. "
   ]
  },
  {
   "cell_type": "code",
   "execution_count": null,
   "id": "a1dc54ef",
   "metadata": {},
   "outputs": [],
   "source": [
    "anae_values = list(range(0,71))\n",
    "anae_strings = [str(x) for x in anae_values]\n",
    "fields = anae_strings + ['UID','band_name','date']\n",
    "field_dict = ee.FeatureCollection([ee.Feature(None, ee.Dictionary.fromLists(fields, fields))])"
   ]
  },
  {
   "cell_type": "markdown",
   "id": "47367809",
   "metadata": {},
   "source": [
    "## Process the images"
   ]
  },
  {
   "cell_type": "markdown",
   "id": "ababdd96",
   "metadata": {},
   "source": [
    "Import Image Collections"
   ]
  },
  {
   "cell_type": "code",
   "execution_count": null,
   "id": "95aee3f8",
   "metadata": {},
   "outputs": [],
   "source": [
    "# Import collections\n",
    "l9 = ee.ImageCollection(\"LANDSAT/LC09/C02/T1_L2\")\n",
    "l8 = ee.ImageCollection(\"LANDSAT/LC08/C02/T1_L2\")\n",
    "l7 = ee.ImageCollection(\"LANDSAT/LE07/C02/T1_L2\")\n",
    "l5 = ee.ImageCollection(\"LANDSAT/LT05/C02/T1_L2\")"
   ]
  },
  {
   "cell_type": "markdown",
   "id": "82faf07a",
   "metadata": {},
   "source": [
    "Process image collections"
   ]
  },
  {
   "cell_type": "code",
   "execution_count": null,
   "id": "b7c525f8",
   "metadata": {},
   "outputs": [],
   "source": [
    "start_year = int(start_date.split('-')[0])\n",
    "end_year = int(end_date.split('-')[0])\n",
    "length_list = list(range(start_year,end_year))\n",
    "\n",
    "\n",
    "# List to append task\n",
    "id_list = []\n",
    "\n",
    "for year in length_list:\n",
    "    print(year,year+1)\n",
    "    start = ee.Date.fromYMD(year,1,1)\n",
    "    end = ee.Date.fromYMD(year+1,1,1)\n",
    "    print(start.getInfo(),end.getInfo())\n",
    "\n",
    "    # Do collection specific mapping\n",
    "    l5c = l5.map(maskL457sr).map(renameBands57)\n",
    "    if slc_data == 'yes':\n",
    "        l7c = l7.map(maskL457sr).map(renameBands57)\n",
    "    elif slc_data == 'no':\n",
    "        l7c = l7.map(maskL457sr).map(renameBands57).filterDate('1999-01-01','2003-05-31') # Remove SLC error affected images\n",
    "    l8c = l8.map(maskL457sr).map(renameBands89)\n",
    "    l9c = l9.map(maskL457sr).map(renameBands89)\n",
    "    if clip_edges == 'yes':\n",
    "        col = (l5c.map(clipEdges)).merge(l7c.map(clipEdges)).merge(l8c).merge(l9c)\\\n",
    "                 .filterDate(start,end)\\\n",
    "                 .filterBounds(bounds)\\\n",
    "                 .filter(ee.Filter.lt('CLOUD_COVER',cloud_percent))\\\n",
    "                 .map(addMNDWI)\\\n",
    "                 .map(onlyW)\\\n",
    "                 .map(maskBad)\n",
    "    elif clip_edges == 'no':\n",
    "        col = l5c.merge(l7c).merge(l8c).merge(l9c)\\\n",
    "                 .filterDate(start,end)\\\n",
    "                 .filterBounds(bounds)\\\n",
    "                 .filter(ee.Filter.lt('CLOUD_COVER',cloud_percent))\\\n",
    "                 .map(onlyW)\\\n",
    "                 .map(addMNDWI)\\\n",
    "                 .map(maskBad)\n",
    "\n",
    "    ####################################################################################################################\n",
    "\n",
    "    # Process to make monthly mosaics \n",
    "    months = end.difference(start, timeframe)\n",
    "    datelist = ee.List.sequence(0, months.int()).map(lambda count: start.advance(count, timeframe))\n",
    "\n",
    "    # This function creates a list of images\n",
    "    # This finds the max of every band\n",
    "    def makeDatelist(d):\n",
    "        begin = ee.Date(d)\n",
    "        end = begin.advance(advance_overlap, timeframe)\n",
    "        imgcol = col.filterDate(begin, end)\n",
    "        monthsum= imgcol.reduce(ee.Reducer.max())\\\n",
    "                        .set({'date':begin}) # Set date\n",
    "        return monthsum\n",
    "\n",
    "    dummy = datelist.map(makeDatelist)\n",
    "\n",
    "    # Turn list into image collection\n",
    "    col = ee.ImageCollection(dummy)\n",
    "\n",
    "    # Get rid of empty images\n",
    "    c = col.map(lambda img: img.set('count', img.bandNames().length()))\\\n",
    "           .filter(ee.Filter.gt('count', 0))\\\n",
    "           .map(getBadPixel)\\\n",
    "           .map(getBadPixelArea)\\\n",
    "           .map(getWaterArea)\\\n",
    "           .map(getClear)\\\n",
    "           .map(getClearArea)\\\n",
    "           .map(clipBasin)\n",
    "\n",
    "    ####################################################################################################################\n",
    "\n",
    "    # Create list to iterate through\n",
    "    length_list = list(range(0,end.difference(start,'month').round().getInfo())) # Max possible images\n",
    "\n",
    "    for i in length_list:\n",
    "        date = ee.Date(datelist.get(i)).format('YYYY-MM-dd').getInfo()\n",
    "        print(date)\n",
    "\n",
    "        try:\n",
    "            stat_im = c.filter(ee.Filter.eq('date',ee.Date(date))).first()\n",
    "\n",
    "            description = 'Stat_im_'+'slc_'+str(slc_data)+'_clip57_'+str(clip_edges) + '_cplt_' +str(cloud_percent)\n",
    "            print(description)\n",
    "            task = ee.batch.Export.image.toAsset(image=stat_im.select('clear_area','water_area','bad_pixel_area'), \n",
    "                                                 description= description + '_' + date, \n",
    "                                                 assetId='projects/rock-hangar-240123/assets/MDWERP_113_January_2023/'+ description + '_' + ee.Date(datelist.get(i)).format('YYYYMMdd').getInfo(), \n",
    "                                                 region=mdb.geometry(), \n",
    "                                                 scale=scale, \n",
    "                                                 crs=crs, \n",
    "                                                 crsTransform=crsTransform, \n",
    "                                                 maxPixels=100000000000, \n",
    "                                                    )\n",
    "            print(task)\n",
    "            if test_mode == 'no':\n",
    "                task.start()\n",
    "                list_id = task.status()['name']\n",
    "                id_list.append(list_id)\n",
    "            elif test_mode == 'yes':\n",
    "                pass\n",
    "        \n",
    "        except Exception as e:\n",
    "            print('Problem with the export')\n",
    "            print(e)  \n",
    "\n",
    "    # Wait 3hours for each 12 months to save out\n",
    "    print('Started: ',str(year),' at ',strftime(\"%Y-%m-%d %H:%M:%S\", localtime()))\n",
    "    \n",
    "    if test_mode == 'no':\n",
    "        time.sleep(1*10800) \n",
    "    elif test_mode == 'yes':\n",
    "        pass\n",
    "    "
   ]
  },
  {
   "cell_type": "markdown",
   "id": "77e26980",
   "metadata": {},
   "source": [
    "# Calculate the areas"
   ]
  },
  {
   "cell_type": "code",
   "execution_count": null,
   "id": "68acad13",
   "metadata": {},
   "outputs": [],
   "source": [
    "# List assets\n",
    "asset_dir = f\"projects/rock-hangar-240123/assets/MDWERP_113_January_2023/\"\n",
    "asset_list = ee.data.listAssets({'parent':asset_dir})['assets']"
   ]
  },
  {
   "cell_type": "code",
   "execution_count": null,
   "id": "20b913c3",
   "metadata": {},
   "outputs": [],
   "source": [
    "for i in bounds_list:\n",
    "    if i == sb.geometry():\n",
    "        prefix = 'southb_'\n",
    "        export_areas = sb\n",
    "    elif i == nb.geometry():\n",
    "        prefix = 'northb_'\n",
    "        export_areas = nb\n",
    "\n",
    "    test_mode = 'no'\n",
    "\n",
    "    for asset in asset_list:\n",
    "        \n",
    "        date = asset['name'][-8:]\n",
    "\n",
    "        try:\n",
    "            stat_im = ee.Image(asset['name'])\n",
    "            print(asset['name'])\n",
    "\n",
    "            masked_stat_im = stat_im.unmask().addBands(anae1.rename('anae_value'))\n",
    "\n",
    "            # Water\n",
    "            sum_table_water = masked_stat_im.select(['water_area','anae_value'])\\\n",
    "                                   .reduceRegions(collection=export_areas,\n",
    "                                                  reducer= ee.Reducer.sum().group(groupField=1),\n",
    "                                                  crs= crs,\n",
    "                                                  crsTransform= crsTransform).map(lambda feature: feature.set({'date':date}))\\\n",
    "                                                                             .map(addName_water)\n",
    "\n",
    "            # Clear\n",
    "            sum_table_clear = masked_stat_im.select(['clear_area','anae_value'])\\\n",
    "                                   .reduceRegions(collection=export_areas,\n",
    "                                                  reducer= ee.Reducer.sum().group(groupField=1),\n",
    "                                                  crs= crs,\n",
    "                                                  crsTransform= crsTransform).map(lambda feature: feature.set({'date':date}))\\\n",
    "                                                                             .map(addName_clear)\n",
    "            # Bad\n",
    "            sum_table_bad = masked_stat_im.select(['bad_pixel_area','anae_value'])\\\n",
    "                                   .reduceRegions(collection=export_areas,\n",
    "                                                  reducer= ee.Reducer.sum().group(groupField=1),\n",
    "                                                  crs= crs,\n",
    "                                                  crsTransform= crsTransform).map(lambda feature: feature.set({'date':date}))\\\n",
    "                                                                             .map(addName_bad)\n",
    "\n",
    "\n",
    "            # Combine all 3 band results\n",
    "            bin_area = ee.FeatureCollection(sum_table_water.toList(sum_table_water.size())\\\n",
    "                                    .cat(sum_table_clear.toList(sum_table_clear.size()))\\\n",
    "                                    .cat(sum_table_bad.toList(sum_table_bad.size())));\n",
    "\n",
    "            # Flatten groups\n",
    "            flattened = bin_area.map(formatGroups).select([\".*\"], None, False)\n",
    "\n",
    "            # Add row header dummy\n",
    "            result = field_dict.merge(flattened)\n",
    "\n",
    "            description= prefix + asset['name'].split('/')[4][8:]\n",
    "            print('Will try exporting: ',description,' at ',strftime(\"%Y-%m-%d %H:%M:%S\", localtime()))\n",
    "\n",
    "            try:\n",
    "                task = ee.batch.Export.table.toCloudStorage(collection= result,\n",
    "                                                            description= description, \n",
    "                                                            bucket= bucket,\n",
    "                                                            fileNamePrefix = fileNamePrefix + description)\n",
    "                if test_mode == 'yes':\n",
    "                    pass\n",
    "                elif test_mode == 'no':\n",
    "                    task.start()\n",
    "\n",
    "                print('Exporting: ',description,' at ',strftime(\"%Y-%m-%d %H:%M:%S\", localtime()))\n",
    "                time.sleep(1*60)  \n",
    "\n",
    "            except Exception as e:\n",
    "                print('Problem with the export')\n",
    "                print(e)  \n",
    "        except Exception as e:\n",
    "            print()\n",
    "            print(e)    "
   ]
  },
  {
   "cell_type": "markdown",
   "id": "9a2d9688",
   "metadata": {},
   "source": [
    "Check progress in the [Task Manager](https://code.earthengine.google.com/tasks)"
   ]
  },
  {
   "cell_type": "code",
   "execution_count": null,
   "id": "3c145157",
   "metadata": {},
   "outputs": [],
   "source": [
    "# # Kill all tasks in emergency\n",
    "# for task in ee.batch.Task.list():\n",
    "#     task.cancel()"
   ]
  },
  {
   "cell_type": "markdown",
   "id": "16d98555",
   "metadata": {},
   "source": [
    "## Calculate Area for catchments using a blank image"
   ]
  },
  {
   "cell_type": "code",
   "execution_count": null,
   "id": "33daac8e",
   "metadata": {},
   "outputs": [],
   "source": [
    "# Create blank image\n",
    "blank = ee.Image(1)\n",
    "\n",
    "# Calculate area\n",
    "catch_table = blank.multiply(ee.Image.pixelArea())\\\n",
    "                   .reduceRegions(collection=catchments,\n",
    "                                  reducer= ee.Reducer.sum(),\n",
    "                                  crs= crs,\n",
    "                                  crsTransform= crsTransform)\n",
    "\n",
    "# Export\n",
    "task = ee.batch.Export.table.toCloudStorage(collection= catch_table.select(['sum','UID'], None, False),\n",
    "                                            description= 'Area_of_all_catchments', \n",
    "                                            bucket= bucket,\n",
    "                                            fileNamePrefix = 'Project_113/'+'Area_of_all_catchments')\n",
    "task.start()"
   ]
  }
 ],
 "metadata": {
  "kernelspec": {
   "display_name": "Python 3",
   "language": "python",
   "name": "python3"
  },
  "language_info": {
   "codemirror_mode": {
    "name": "ipython",
    "version": 3
   },
   "file_extension": ".py",
   "mimetype": "text/x-python",
   "name": "python",
   "nbconvert_exporter": "python",
   "pygments_lexer": "ipython3",
   "version": "3.6.9"
  }
 },
 "nbformat": 4,
 "nbformat_minor": 5
}
